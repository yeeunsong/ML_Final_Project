{
 "cells": [
  {
   "cell_type": "code",
   "execution_count": 2,
   "metadata": {},
   "outputs": [],
   "source": [
    "# This Python 3 environment comes with many helpful analytics libraries installed\n",
    "# It is defined by the kaggle/python docker image: https://github.com/kaggle/docker-python\n",
    "# For example, here's several helpful packages to load in \n",
    "\n",
    "import pandas as pd\n",
    "import numpy as np\n",
    "import matplotlib.dates as md\n",
    "import matplotlib.pyplot as plt\n",
    "from mpl_toolkits.axes_grid1 import host_subplot\n",
    "import mpl_toolkits.axisartist as AA\n",
    "from sklearn.preprocessing import StandardScaler\n",
    "from sklearn.decomposition import PCA\n",
    "from sklearn.cluster import KMeans\n",
    "from sklearn.covariance import EllipticEnvelope\n",
    "from sklearn.ensemble import IsolationForest\n",
    "from sklearn.svm import OneClassSVM\n",
    "from mpl_toolkits.mplot3d import Axes3D\n",
    "import seaborn as sns\n",
    "# from pyemma import msm\n",
    "%matplotlib inline\n",
    "\n",
    "# plt.style.use(\"fivethirtyeight\")\n",
    "\n",
    "import torch\n",
    "import torch.nn as nn\n",
    "import torch.nn.functional as F\n",
    "import torch.optim as optim\n",
    "\n",
    "import torchvision.transforms as transforms\n",
    "import torchvision.models as models\n",
    "\n",
    "\n",
    "# Input data files are available in the \"../input/\" directory.\n",
    "# For example, running this (by clicking run or pressing Shift+Enter) will list all files under the input directory\n",
    "\n",
    "import os\n",
    "import timeit\n",
    "for dirname, _, filenames in os.walk('/kaggle/input'):\n",
    "    for filename in filenames:\n",
    "        print(os.path.join(dirname, filename))\n",
    "\n",
    "# Any results you write to the current directory are saved as output."
   ]
  },
  {
   "cell_type": "code",
   "execution_count": 3,
   "metadata": {},
   "outputs": [],
   "source": [
    "start = timeit.default_timer()"
   ]
  },
  {
   "cell_type": "code",
   "execution_count": 4,
   "metadata": {},
   "outputs": [],
   "source": [
    "device = torch.device(\"cuda\" if torch.cuda.is_available() else \"cpu\")"
   ]
  },
  {
   "cell_type": "code",
   "execution_count": 5,
   "metadata": {},
   "outputs": [
    {
     "name": "stdout",
     "output_type": "stream",
     "text": [
      "cpu\n"
     ]
    }
   ],
   "source": [
    "print(device)"
   ]
  },
  {
   "cell_type": "markdown",
   "metadata": {},
   "source": [
    "## Load Data"
   ]
  },
  {
   "cell_type": "code",
   "execution_count": 6,
   "metadata": {},
   "outputs": [],
   "source": [
    "train = pd.read_csv('./expedia-personalized-sort/data/train.csv')\n",
    "test = pd.read_csv('./expedia-personalized-sort/data/test.csv')"
   ]
  },
  {
   "cell_type": "code",
   "execution_count": 7,
   "metadata": {},
   "outputs": [],
   "source": [
    "combine = [train, test]"
   ]
  },
  {
   "cell_type": "code",
   "execution_count": 8,
   "metadata": {},
   "outputs": [
    {
     "name": "stdout",
     "output_type": "stream",
     "text": [
      "<class 'pandas.core.frame.DataFrame'>\n",
      "RangeIndex: 9917530 entries, 0 to 9917529\n",
      "Data columns (total 54 columns):\n",
      "srch_id                        int64\n",
      "date_time                      object\n",
      "site_id                        int64\n",
      "visitor_location_country_id    int64\n",
      "visitor_hist_starrating        float64\n",
      "visitor_hist_adr_usd           float64\n",
      "prop_country_id                int64\n",
      "prop_id                        int64\n",
      "prop_starrating                int64\n",
      "prop_review_score              float64\n",
      "prop_brand_bool                int64\n",
      "prop_location_score1           float64\n",
      "prop_location_score2           float64\n",
      "prop_log_historical_price      float64\n",
      "position                       int64\n",
      "price_usd                      float64\n",
      "promotion_flag                 int64\n",
      "srch_destination_id            int64\n",
      "srch_length_of_stay            int64\n",
      "srch_booking_window            int64\n",
      "srch_adults_count              int64\n",
      "srch_children_count            int64\n",
      "srch_room_count                int64\n",
      "srch_saturday_night_bool       int64\n",
      "srch_query_affinity_score      float64\n",
      "orig_destination_distance      float64\n",
      "random_bool                    int64\n",
      "comp1_rate                     float64\n",
      "comp1_inv                      float64\n",
      "comp1_rate_percent_diff        float64\n",
      "comp2_rate                     float64\n",
      "comp2_inv                      float64\n",
      "comp2_rate_percent_diff        float64\n",
      "comp3_rate                     float64\n",
      "comp3_inv                      float64\n",
      "comp3_rate_percent_diff        float64\n",
      "comp4_rate                     float64\n",
      "comp4_inv                      float64\n",
      "comp4_rate_percent_diff        float64\n",
      "comp5_rate                     float64\n",
      "comp5_inv                      float64\n",
      "comp5_rate_percent_diff        float64\n",
      "comp6_rate                     float64\n",
      "comp6_inv                      float64\n",
      "comp6_rate_percent_diff        float64\n",
      "comp7_rate                     float64\n",
      "comp7_inv                      float64\n",
      "comp7_rate_percent_diff        float64\n",
      "comp8_rate                     float64\n",
      "comp8_inv                      float64\n",
      "comp8_rate_percent_diff        float64\n",
      "click_bool                     int64\n",
      "gross_bookings_usd             float64\n",
      "booking_bool                   int64\n",
      "dtypes: float64(34), int64(19), object(1)\n",
      "memory usage: 4.0+ GB\n"
     ]
    }
   ],
   "source": [
    "train.info()"
   ]
  },
  {
   "cell_type": "code",
   "execution_count": 9,
   "metadata": {},
   "outputs": [
    {
     "name": "stdout",
     "output_type": "stream",
     "text": [
      "<class 'pandas.core.frame.DataFrame'>\n",
      "RangeIndex: 6622629 entries, 0 to 6622628\n",
      "Data columns (total 50 columns):\n",
      "srch_id                        int64\n",
      "date_time                      object\n",
      "site_id                        int64\n",
      "visitor_location_country_id    int64\n",
      "visitor_hist_starrating        float64\n",
      "visitor_hist_adr_usd           float64\n",
      "prop_country_id                int64\n",
      "prop_id                        int64\n",
      "prop_starrating                int64\n",
      "prop_review_score              float64\n",
      "prop_brand_bool                int64\n",
      "prop_location_score1           float64\n",
      "prop_location_score2           float64\n",
      "prop_log_historical_price      float64\n",
      "price_usd                      float64\n",
      "promotion_flag                 int64\n",
      "srch_destination_id            int64\n",
      "srch_length_of_stay            int64\n",
      "srch_booking_window            int64\n",
      "srch_adults_count              int64\n",
      "srch_children_count            int64\n",
      "srch_room_count                int64\n",
      "srch_saturday_night_bool       int64\n",
      "srch_query_affinity_score      float64\n",
      "orig_destination_distance      float64\n",
      "random_bool                    int64\n",
      "comp1_rate                     float64\n",
      "comp1_inv                      float64\n",
      "comp1_rate_percent_diff        float64\n",
      "comp2_rate                     float64\n",
      "comp2_inv                      float64\n",
      "comp2_rate_percent_diff        float64\n",
      "comp3_rate                     float64\n",
      "comp3_inv                      float64\n",
      "comp3_rate_percent_diff        float64\n",
      "comp4_rate                     float64\n",
      "comp4_inv                      float64\n",
      "comp4_rate_percent_diff        float64\n",
      "comp5_rate                     float64\n",
      "comp5_inv                      float64\n",
      "comp5_rate_percent_diff        float64\n",
      "comp6_rate                     float64\n",
      "comp6_inv                      float64\n",
      "comp6_rate_percent_diff        float64\n",
      "comp7_rate                     float64\n",
      "comp7_inv                      float64\n",
      "comp7_rate_percent_diff        float64\n",
      "comp8_rate                     float64\n",
      "comp8_inv                      float64\n",
      "comp8_rate_percent_diff        float64\n",
      "dtypes: float64(33), int64(16), object(1)\n",
      "memory usage: 2.5+ GB\n"
     ]
    }
   ],
   "source": [
    "test.info()"
   ]
  },
  {
   "cell_type": "code",
   "execution_count": 9,
   "metadata": {},
   "outputs": [],
   "source": [
    "for data in combine:\n",
    "    data.drop([col for col in data.columns.values if 'comp' in col], axis='columns', inplace=True)\n",
    "\n",
    "train.drop(['click_bool', 'gross_bookings_usd', 'booking_bool', 'position'], axis='columns', inplace=True)\n",
    "# inplace=True를 해야지 data 자체가 변한다.\n",
    "# drop the columns only in training set"
   ]
  },
  {
   "cell_type": "code",
   "execution_count": 11,
   "metadata": {},
   "outputs": [
    {
     "name": "stdout",
     "output_type": "stream",
     "text": [
      "<class 'pandas.core.frame.DataFrame'>\n",
      "RangeIndex: 9917530 entries, 0 to 9917529\n",
      "Data columns (total 26 columns):\n",
      "srch_id                        int64\n",
      "date_time                      object\n",
      "site_id                        int64\n",
      "visitor_location_country_id    int64\n",
      "visitor_hist_starrating        float64\n",
      "visitor_hist_adr_usd           float64\n",
      "prop_country_id                int64\n",
      "prop_id                        int64\n",
      "prop_starrating                int64\n",
      "prop_review_score              float64\n",
      "prop_brand_bool                int64\n",
      "prop_location_score1           float64\n",
      "prop_location_score2           float64\n",
      "prop_log_historical_price      float64\n",
      "price_usd                      float64\n",
      "promotion_flag                 int64\n",
      "srch_destination_id            int64\n",
      "srch_length_of_stay            int64\n",
      "srch_booking_window            int64\n",
      "srch_adults_count              int64\n",
      "srch_children_count            int64\n",
      "srch_room_count                int64\n",
      "srch_saturday_night_bool       int64\n",
      "srch_query_affinity_score      float64\n",
      "orig_destination_distance      float64\n",
      "random_bool                    int64\n",
      "dtypes: float64(9), int64(16), object(1)\n",
      "memory usage: 1.9+ GB\n"
     ]
    }
   ],
   "source": [
    "train.info()"
   ]
  },
  {
   "cell_type": "code",
   "execution_count": 12,
   "metadata": {},
   "outputs": [
    {
     "name": "stdout",
     "output_type": "stream",
     "text": [
      "<class 'pandas.core.frame.DataFrame'>\n",
      "RangeIndex: 6622629 entries, 0 to 6622628\n",
      "Data columns (total 26 columns):\n",
      "srch_id                        int64\n",
      "date_time                      object\n",
      "site_id                        int64\n",
      "visitor_location_country_id    int64\n",
      "visitor_hist_starrating        float64\n",
      "visitor_hist_adr_usd           float64\n",
      "prop_country_id                int64\n",
      "prop_id                        int64\n",
      "prop_starrating                int64\n",
      "prop_review_score              float64\n",
      "prop_brand_bool                int64\n",
      "prop_location_score1           float64\n",
      "prop_location_score2           float64\n",
      "prop_log_historical_price      float64\n",
      "price_usd                      float64\n",
      "promotion_flag                 int64\n",
      "srch_destination_id            int64\n",
      "srch_length_of_stay            int64\n",
      "srch_booking_window            int64\n",
      "srch_adults_count              int64\n",
      "srch_children_count            int64\n",
      "srch_room_count                int64\n",
      "srch_saturday_night_bool       int64\n",
      "srch_query_affinity_score      float64\n",
      "orig_destination_distance      float64\n",
      "random_bool                    int64\n",
      "dtypes: float64(9), int64(16), object(1)\n",
      "memory usage: 1.3+ GB\n"
     ]
    }
   ],
   "source": [
    "test.info()"
   ]
  },
  {
   "cell_type": "markdown",
   "metadata": {},
   "source": [
    "## EDA"
   ]
  },
  {
   "cell_type": "markdown",
   "metadata": {},
   "source": [
    "Anomaly"
   ]
  },
  {
   "cell_type": "code",
   "execution_count": 12,
   "metadata": {},
   "outputs": [
    {
     "data": {
      "text/plain": [
       "Text(0.5, 1.0, 'Time Series of room price by date time of search')"
      ]
     },
     "execution_count": 12,
     "metadata": {},
     "output_type": "execute_result"
    },
    {
     "data": {
      "image/png": "[encoded data removed]",
      "text/plain": [
       "<Figure size 2160x504 with 1 Axes>"
      ]
     },
     "metadata": {
      "needs_background": "light"
     },
     "output_type": "display_data"
    }
   ],
   "source": [
    "train.plot(x='date_time', y='price_usd', figsize=(30, 7))\n",
    "plt.xlabel('Date time')\n",
    "plt.ylabel('Price in USD')\n",
    "plt.title('Time Series of room price by date time of search')"
   ]
  },
  {
   "cell_type": "code",
   "execution_count": 13,
   "metadata": {},
   "outputs": [],
   "source": [
    "# found an anomaly\n",
    "train = train.loc[train['price_usd'] < 5584]"
   ]
  },
  {
   "cell_type": "code",
   "execution_count": 14,
   "metadata": {},
   "outputs": [
    {
     "data": {
      "text/plain": [
       "Text(0.5, 1.0, 'Time Series of room price by date time of search')"
      ]
     },
     "execution_count": 14,
     "metadata": {},
     "output_type": "execute_result"
    },
    {
     "data": {
      "image/png": "[encoded data removed]",
      "text/plain": [
       "<Figure size 2160x504 with 1 Axes>"
      ]
     },
     "metadata": {
      "needs_background": "light"
     },
     "output_type": "display_data"
    }
   ],
   "source": [
    "train.plot(x='date_time', y='price_usd', figsize=(30, 7))\n",
    "plt.xlabel('Date time')\n",
    "plt.ylabel('Price in USD')\n",
    "plt.title('Time Series of room price by date time of search')"
   ]
  },
  {
   "cell_type": "code",
   "execution_count": 15,
   "metadata": {},
   "outputs": [],
   "source": [
    "# deleted the anomaly values and plotted again"
   ]
  },
  {
   "cell_type": "markdown",
   "metadata": {},
   "source": [
    "NaN"
   ]
  },
  {
   "cell_type": "code",
   "execution_count": 10,
   "metadata": {},
   "outputs": [
    {
     "name": "stdout",
     "output_type": "stream",
     "text": [
      "True\n",
      "True\n"
     ]
    }
   ],
   "source": [
    "for data in combine:\n",
    "    print(data.isnull().values.any())\n",
    "# so there exists nan values for both"
   ]
  },
  {
   "cell_type": "code",
   "execution_count": 11,
   "metadata": {},
   "outputs": [
    {
     "name": "stdout",
     "output_type": "stream",
     "text": [
      "srch_id                              0\n",
      "date_time                            0\n",
      "site_id                              0\n",
      "visitor_location_country_id          0\n",
      "visitor_hist_starrating        9412233\n",
      "visitor_hist_adr_usd           9409918\n",
      "prop_country_id                      0\n",
      "prop_id                              0\n",
      "prop_starrating                      0\n",
      "prop_review_score                14630\n",
      "prop_brand_bool                      0\n",
      "prop_location_score1                 0\n",
      "prop_location_score2           2178380\n",
      "prop_log_historical_price            0\n",
      "price_usd                            0\n",
      "promotion_flag                       0\n",
      "srch_destination_id                  0\n",
      "srch_length_of_stay                  0\n",
      "srch_booking_window                  0\n",
      "srch_adults_count                    0\n",
      "srch_children_count                  0\n",
      "srch_room_count                      0\n",
      "srch_saturday_night_bool             0\n",
      "srch_query_affinity_score      9281966\n",
      "orig_destination_distance      3216461\n",
      "random_bool                          0\n",
      "dtype: int64\n"
     ]
    }
   ],
   "source": [
    "print(train.isna().sum())\n",
    "# train RangeIndex: 9917530 entries, 0 to 9917529"
   ]
  },
  {
   "cell_type": "code",
   "execution_count": 12,
   "metadata": {},
   "outputs": [
    {
     "name": "stdout",
     "output_type": "stream",
     "text": [
      "srch_id                              0\n",
      "date_time                            0\n",
      "site_id                              0\n",
      "visitor_location_country_id          0\n",
      "visitor_hist_starrating        6282153\n",
      "visitor_hist_adr_usd           6280118\n",
      "prop_country_id                      0\n",
      "prop_id                              0\n",
      "prop_starrating                      0\n",
      "prop_review_score                 9549\n",
      "prop_brand_bool                      0\n",
      "prop_location_score1                 0\n",
      "prop_location_score2           1454922\n",
      "prop_log_historical_price            0\n",
      "price_usd                            0\n",
      "promotion_flag                       0\n",
      "srch_destination_id                  0\n",
      "srch_length_of_stay                  0\n",
      "srch_booking_window                  0\n",
      "srch_adults_count                    0\n",
      "srch_children_count                  0\n",
      "srch_room_count                      0\n",
      "srch_saturday_night_bool             0\n",
      "srch_query_affinity_score      6197285\n",
      "orig_destination_distance      2147943\n",
      "random_bool                          0\n",
      "dtype: int64\n"
     ]
    }
   ],
   "source": [
    "print(test.isna().sum())\n",
    "# test RangeIndex: 6622629 entries, 0 to 6622628"
   ]
  },
  {
   "cell_type": "raw",
   "metadata": {},
   "source": [
    "we can see that there are two many nans in \n",
    "visitor_hist_starrating        9406803\n",
    "visitor_hist_adr_usd           9404488\n",
    "srch_query_affinity_score      9276667\n",
    "\n",
    "so we delete those columns\n",
    "and other variables withe mean"
   ]
  },
  {
   "cell_type": "code",
   "execution_count": 13,
   "metadata": {},
   "outputs": [],
   "source": [
    "train.drop(['visitor_hist_starrating', 'visitor_hist_adr_usd', 'srch_query_affinity_score' ], axis='columns', inplace=True)\n",
    "train.fillna(data['orig_destination_distance'].dropna().median(), inplace=True)\n",
    "train.fillna(data['prop_review_score'].dropna().median(), inplace=True)\n",
    "train.fillna(data['prop_location_score2'].dropna().median(), inplace=True)\n",
    "\n",
    "test.drop(['visitor_hist_starrating', 'visitor_hist_adr_usd', 'srch_query_affinity_score' ], axis='columns', inplace=True)\n",
    "test.fillna(data['orig_destination_distance'].dropna().median(), inplace=True)\n",
    "test.fillna(data['prop_review_score'].dropna().median(), inplace=True)\n",
    "test.fillna(data['prop_location_score2'].dropna().median(), inplace=True)"
   ]
  },
  {
   "cell_type": "code",
   "execution_count": 20,
   "metadata": {},
   "outputs": [
    {
     "name": "stdout",
     "output_type": "stream",
     "text": [
      "srch_id                        0\n",
      "date_time                      0\n",
      "site_id                        0\n",
      "visitor_location_country_id    0\n",
      "prop_country_id                0\n",
      "prop_id                        0\n",
      "prop_starrating                0\n",
      "prop_review_score              0\n",
      "prop_brand_bool                0\n",
      "prop_location_score1           0\n",
      "prop_location_score2           0\n",
      "prop_log_historical_price      0\n",
      "price_usd                      0\n",
      "promotion_flag                 0\n",
      "srch_destination_id            0\n",
      "srch_length_of_stay            0\n",
      "srch_booking_window            0\n",
      "srch_adults_count              0\n",
      "srch_children_count            0\n",
      "srch_room_count                0\n",
      "srch_saturday_night_bool       0\n",
      "orig_destination_distance      0\n",
      "random_bool                    0\n",
      "dtype: int64\n",
      "srch_id                        0\n",
      "date_time                      0\n",
      "site_id                        0\n",
      "visitor_location_country_id    0\n",
      "prop_country_id                0\n",
      "prop_id                        0\n",
      "prop_starrating                0\n",
      "prop_review_score              0\n",
      "prop_brand_bool                0\n",
      "prop_location_score1           0\n",
      "prop_location_score2           0\n",
      "prop_log_historical_price      0\n",
      "price_usd                      0\n",
      "promotion_flag                 0\n",
      "srch_destination_id            0\n",
      "srch_length_of_stay            0\n",
      "srch_booking_window            0\n",
      "srch_adults_count              0\n",
      "srch_children_count            0\n",
      "srch_room_count                0\n",
      "srch_saturday_night_bool       0\n",
      "orig_destination_distance      0\n",
      "random_bool                    0\n",
      "dtype: int64\n"
     ]
    }
   ],
   "source": [
    "print(train.isna().sum())\n",
    "print(test.isna().sum())"
   ]
  },
  {
   "cell_type": "markdown",
   "metadata": {},
   "source": [
    "## Fitting to Model"
   ]
  },
  {
   "cell_type": "code",
   "execution_count": 14,
   "metadata": {},
   "outputs": [],
   "source": [
    "# classify 과정에서 필요한 라이브러리\n",
    "from sklearn.model_selection import train_test_split\n",
    "from sklearn.linear_model import LogisticRegression, SGDRegressor\n",
    "from sklearn.svm import SVC\n",
    "from sklearn.naive_bayes import GaussianNB\n",
    "from sklearn.tree import DecisionTreeClassifier\n",
    "from sklearn.ensemble import RandomForestClassifier\n",
    "from sklearn.neighbors import KNeighborsClassifier\n",
    "from sklearn import metrics\n",
    "from sklearn.metrics import accuracy_score\n",
    "from sklearn.preprocessing import StandardScaler, LabelBinarizer\n",
    "\n",
    "# warning 무시하도록\n",
    "import warnings\n",
    "warnings.filterwarnings('ignore')\n",
    "\n",
    "from tqdm import tqdm\n",
    "from tqdm import trange"
   ]
  },
  {
   "cell_type": "code",
   "execution_count": 15,
   "metadata": {},
   "outputs": [],
   "source": [
    "# should change the object value 'date_time'\n",
    "# 이 변수를 어떻게 조작할 지 생각해 보아야 할듯\n",
    "for data in combine:\n",
    "    data.drop(['date_time'], axis='columns', inplace=True)\n",
    "## why does this not work???????????????\n",
    "##?????????????????????????????\n"
   ]
  },
  {
   "cell_type": "code",
   "execution_count": 21,
   "metadata": {},
   "outputs": [
    {
     "name": "stdout",
     "output_type": "stream",
     "text": [
      "<class 'pandas.core.frame.DataFrame'>\n",
      "RangeIndex: 9917530 entries, 0 to 9917529\n",
      "Data columns (total 22 columns):\n",
      "srch_id                        int64\n",
      "site_id                        int64\n",
      "visitor_location_country_id    int64\n",
      "prop_country_id                int64\n",
      "prop_id                        int64\n",
      "prop_starrating                int64\n",
      "prop_review_score              float64\n",
      "prop_brand_bool                int64\n",
      "prop_location_score1           float64\n",
      "prop_location_score2           float64\n",
      "prop_log_historical_price      float64\n",
      "price_usd                      float64\n",
      "promotion_flag                 int64\n",
      "srch_destination_id            int64\n",
      "srch_length_of_stay            int64\n",
      "srch_booking_window            int64\n",
      "srch_adults_count              int64\n",
      "srch_children_count            int64\n",
      "srch_room_count                int64\n",
      "srch_saturday_night_bool       int64\n",
      "orig_destination_distance      float64\n",
      "random_bool                    int64\n",
      "dtypes: float64(6), int64(16)\n",
      "memory usage: 1.6 GB\n"
     ]
    }
   ],
   "source": [
    "train.info()\n",
    "# the above code works for test data but not for train data\n",
    "# don't know why"
   ]
  },
  {
   "cell_type": "code",
   "execution_count": 22,
   "metadata": {},
   "outputs": [
    {
     "name": "stdout",
     "output_type": "stream",
     "text": [
      "<class 'pandas.core.frame.DataFrame'>\n",
      "RangeIndex: 6622629 entries, 0 to 6622628\n",
      "Data columns (total 22 columns):\n",
      "srch_id                        int64\n",
      "site_id                        int64\n",
      "visitor_location_country_id    int64\n",
      "prop_country_id                int64\n",
      "prop_id                        int64\n",
      "prop_starrating                int64\n",
      "prop_review_score              float64\n",
      "prop_brand_bool                int64\n",
      "prop_location_score1           float64\n",
      "prop_location_score2           float64\n",
      "prop_log_historical_price      float64\n",
      "price_usd                      float64\n",
      "promotion_flag                 int64\n",
      "srch_destination_id            int64\n",
      "srch_length_of_stay            int64\n",
      "srch_booking_window            int64\n",
      "srch_adults_count              int64\n",
      "srch_children_count            int64\n",
      "srch_room_count                int64\n",
      "srch_saturday_night_bool       int64\n",
      "orig_destination_distance      float64\n",
      "random_bool                    int64\n",
      "dtypes: float64(6), int64(16)\n",
      "memory usage: 1.1 GB\n"
     ]
    }
   ],
   "source": [
    "test.info()"
   ]
  },
  {
   "cell_type": "code",
   "execution_count": 17,
   "metadata": {},
   "outputs": [
    {
     "name": "stdout",
     "output_type": "stream",
     "text": [
      "0          164.59\n",
      "1           54.33\n",
      "2          105.47\n",
      "3           51.13\n",
      "4           33.56\n",
      "5           59.12\n",
      "6           68.71\n",
      "7          124.64\n",
      "8           95.88\n",
      "9           68.71\n",
      "10         174.18\n",
      "11          68.71\n",
      "12         124.64\n",
      "13         275.00\n",
      "14         460.00\n",
      "15         525.00\n",
      "16         289.00\n",
      "17         139.00\n",
      "18         199.00\n",
      "19         575.00\n",
      "20         209.00\n",
      "21         345.00\n",
      "22         595.00\n",
      "23         349.00\n",
      "24         219.00\n",
      "25         425.00\n",
      "26         249.00\n",
      "27         215.00\n",
      "28         343.00\n",
      "29         249.00\n",
      "            ...  \n",
      "6622599    219.00\n",
      "6622600    161.00\n",
      "6622601    259.00\n",
      "6622602    110.00\n",
      "6622603    229.00\n",
      "6622604    319.00\n",
      "6622605     54.00\n",
      "6622606    316.00\n",
      "6622607    158.00\n",
      "6622608    118.00\n",
      "6622609    189.00\n",
      "6622610    119.00\n",
      "6622611    101.00\n",
      "6622612    100.00\n",
      "6622613    139.00\n",
      "6622614    118.00\n",
      "6622615    319.00\n",
      "6622616     80.00\n",
      "6622617    189.00\n",
      "6622618    239.00\n",
      "6622619    242.00\n",
      "6622620    161.00\n",
      "6622621    129.00\n",
      "6622622    119.00\n",
      "6622623    189.00\n",
      "6622624    229.00\n",
      "6622625     99.00\n",
      "6622626    236.00\n",
      "6622627    232.00\n",
      "6622628    208.00\n",
      "Name: price_usd, Length: 6622629, dtype: float64\n"
     ]
    }
   ],
   "source": [
    "# split data to train_x, train_y\n",
    "# split data to test_x, test_y\n",
    "\n",
    "train_x = train.drop(['price_usd'], axis=1)\n",
    "train_y = train['price_usd']\n",
    "\n",
    "test_x = test.drop(['price_usd'], axis=1)\n",
    "test_y = test['price_usd']\n",
    "\n",
    "print(test_y)"
   ]
  },
  {
   "cell_type": "code",
   "execution_count": 23,
   "metadata": {},
   "outputs": [
    {
     "name": "stdout",
     "output_type": "stream",
     "text": [
      "<class 'pandas.core.frame.DataFrame'>\n"
     ]
    }
   ],
   "source": [
    "print(type(train))"
   ]
  },
  {
   "cell_type": "code",
   "execution_count": 24,
   "metadata": {},
   "outputs": [
    {
     "name": "stdout",
     "output_type": "stream",
     "text": [
      "<class 'pandas.core.frame.DataFrame'>\n"
     ]
    }
   ],
   "source": [
    "print(type(test))"
   ]
  },
  {
   "cell_type": "markdown",
   "metadata": {},
   "source": [
    "0. Linear Regression"
   ]
  },
  {
   "cell_type": "code",
   "execution_count": 18,
   "metadata": {},
   "outputs": [
    {
     "data": {
      "text/plain": [
       "LinearRegression(copy_X=True, fit_intercept=True, n_jobs=None,\n",
       "         normalize=False)"
      ]
     },
     "execution_count": 18,
     "metadata": {},
     "output_type": "execute_result"
    }
   ],
   "source": [
    "from sklearn.linear_model import LinearRegression\n",
    "model = LinearRegression()\n",
    "model.fit(train_x, train_y)"
   ]
  },
  {
   "cell_type": "code",
   "execution_count": 19,
   "metadata": {},
   "outputs": [],
   "source": [
    "prediction = model.predict(test_x)"
   ]
  },
  {
   "cell_type": "code",
   "execution_count": 27,
   "metadata": {},
   "outputs": [
    {
     "name": "stdout",
     "output_type": "stream",
     "text": [
      "7.11587359503163e-05\n",
      "-2861.3450445734106\n"
     ]
    }
   ],
   "source": [
    "print(model.score(test_x, test_y))\n",
    "print(metrics.r2_score(prediction, test_y, multioutput='variance_weighted'))"
   ]
  },
  {
   "cell_type": "code",
   "execution_count": 30,
   "metadata": {},
   "outputs": [
    {
     "data": {
      "text/plain": [
       "array([-1.10459832e-04, -4.19146721e+00,  3.94162323e-02, -5.35070606e-01,\n",
       "       -1.42225118e-05,  1.16238455e+02, -2.14118789e-01, -2.79892946e+01,\n",
       "        2.17016245e+01,  2.01339024e-01, -7.89738908e+00,  2.25477254e+01,\n",
       "        2.90342452e-03, -4.96239720e-01,  1.46888987e-01,  5.39775884e+01,\n",
       "        4.36073247e+01, -7.99381951e+01, -5.89638719e+01, -2.26466892e-02,\n",
       "       -2.92055739e+01])"
      ]
     },
     "execution_count": 30,
     "metadata": {},
     "output_type": "execute_result"
    }
   ],
   "source": [
    "model.coef_"
   ]
  },
  {
   "cell_type": "code",
   "execution_count": 32,
   "metadata": {},
   "outputs": [
    {
     "data": {
      "text/plain": [
       "-10.869893644329409"
      ]
     },
     "execution_count": 32,
     "metadata": {},
     "output_type": "execute_result"
    }
   ],
   "source": [
    "model.intercept_"
   ]
  },
  {
   "cell_type": "code",
   "execution_count": 44,
   "metadata": {},
   "outputs": [],
   "source": [
    "# What happes to intercept if I standardize the data?\n",
    "scaler = StandardScaler()\n",
    "names = train.columns\n",
    "scaled_df = scaler.fit_transform(train)\n",
    "scaled_df = pd.DataFrame(scaled_df, columns=names)"
   ]
  },
  {
   "cell_type": "code",
   "execution_count": 45,
   "metadata": {},
   "outputs": [],
   "source": [
    "scaled_train_x = scaled_df.drop(['price_usd'], axis=1)\n",
    "scaled_train_y = scaled_df['price_usd']"
   ]
  },
  {
   "cell_type": "code",
   "execution_count": 46,
   "metadata": {},
   "outputs": [
    {
     "data": {
      "text/plain": [
       "LinearRegression(copy_X=True, fit_intercept=True, n_jobs=None,\n",
       "         normalize=False)"
      ]
     },
     "execution_count": 46,
     "metadata": {},
     "output_type": "execute_result"
    }
   ],
   "source": [
    "model_scaled = LinearRegression()\n",
    "model.fit(scaled_train_x, scaled_train_y)"
   ]
  },
  {
   "cell_type": "code",
   "execution_count": 47,
   "metadata": {},
   "outputs": [
    {
     "data": {
      "text/plain": [
       "1.2167999845488514e-18"
      ]
     },
     "execution_count": 47,
     "metadata": {},
     "output_type": "execute_result"
    }
   ],
   "source": [
    "model.intercept_"
   ]
  },
  {
   "cell_type": "markdown",
   "metadata": {},
   "source": [
    "1. Logistic Regression"
   ]
  },
  {
   "cell_type": "code",
   "execution_count": null,
   "metadata": {},
   "outputs": [],
   "source": [
    "model = SGDRegressor()\n",
    "model.fit(train_x, train_y)\n",
    "prediction = model.predict(test_x)\n",
    "print('The accuracy of the Logistic Regression is:', metrics.accuracy_score(prediction, test_y))"
   ]
  },
  {
   "cell_type": "markdown",
   "metadata": {},
   "source": [
    "2. SVM"
   ]
  },
  {
   "cell_type": "code",
   "execution_count": null,
   "metadata": {},
   "outputs": [],
   "source": [
    "model = SVC()\n",
    "model.fit(train_X, train_y)\n",
    "prediction = model.predict(test_X)\n",
    "print('The accuracy of the SVM is:', metrics.accuracy_score(prediction, test_y))\n"
   ]
  },
  {
   "cell_type": "markdown",
   "metadata": {},
   "source": [
    "Pytorch Implementations"
   ]
  },
  {
   "cell_type": "code",
   "execution_count": null,
   "metadata": {},
   "outputs": [],
   "source": [
    "import torch\n",
    "from torch.autograd import Variable\n",
    "import torchvision.transforms as transforms\n",
    "import torchvision.datasets as dsets"
   ]
  },
  {
   "cell_type": "code",
   "execution_count": null,
   "metadata": {},
   "outputs": [],
   "source": [
    "model = LinearRegression()"
   ]
  }
 ],
 "metadata": {
  "kernelspec": {
   "display_name": "Python 3",
   "language": "python",
   "name": "python3"
  },
  "language_info": {
   "codemirror_mode": {
    "name": "ipython",
    "version": 3
   },
   "file_extension": ".py",
   "mimetype": "text/x-python",
   "name": "python",
   "nbconvert_exporter": "python",
   "pygments_lexer": "ipython3",
   "version": "3.6.7"
  }
 },
 "nbformat": 4,
 "nbformat_minor": 4
}
