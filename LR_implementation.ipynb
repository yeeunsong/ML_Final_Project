{
 "cells": [
  {
   "cell_type": "code",
   "execution_count": 104,
   "metadata": {},
   "outputs": [],
   "source": [
    "# Import the Dataset\n",
    "import numpy as np\n",
    "from matplotlib import pyplot as plt\n",
    "import pandas as pd\n",
    "import warnings\n",
    "warnings.filterwarnings('ignore')\n",
    "\n",
    "%matplotlib inline\n"
   ]
  },
  {
   "cell_type": "code",
   "execution_count": 105,
   "metadata": {},
   "outputs": [],
   "source": [
    "class LinearRegression(object):\n",
    "    def __init__(self):\n",
    "        self.coefficients = []\n",
    "    \n",
    "    \n",
    "    def fit(self, X, y):\n",
    "        # X: dataset, mXn matrix\n",
    "        # y: target values, mX1 matrix\n",
    "        # We will split features (X) from the target (y)\n",
    "        # We will add a vector of ones to X for the bias b\n",
    "        \n",
    "        ones = np.ones([X.shape[0],1])\n",
    "        X = np.concatenate((ones, X), axis=1)\n",
    "        # concatenate an array of ones to W\n",
    "        # mX1 matrix of ones\n",
    "        # m is the number of data points \n",
    "\n",
    "        # coefficients: n+1\n",
    "        self.coefficients = np.linalg.inv(X.transpose().dot(X)).dot(X.transpose()).dot(y)\n",
    "        \n",
    "    \n",
    "    def predict(self, X):\n",
    "        b0 = self.coefficients[0]\n",
    "        betas = self.coefficients[1:]\n",
    "        y_pred = []\n",
    "        \n",
    "        for data_point in X:\n",
    "        # take a row and make a prediction for that data point\n",
    "            pred = b0\n",
    "\n",
    "            for x, b in zip(data_point, betas):\n",
    "                pred += (b * x)\n",
    "                \n",
    "            y_pred.append(pred)\n",
    "            \n",
    "        return y_pred"
   ]
  },
  {
   "cell_type": "code",
   "execution_count": 106,
   "metadata": {},
   "outputs": [],
   "source": [
    "def normalize(data):\n",
    "        # Normalize the data\n",
    "        data = (data - data.mean())/data.std()\n",
    "        return data"
   ]
  },
  {
   "cell_type": "code",
   "execution_count": 107,
   "metadata": {},
   "outputs": [],
   "source": [
    "# r2_score function\n",
    "def r2_score(y_true, y_pred):\n",
    "    SS_total = 0\n",
    "    SS_reg = 0\n",
    "    \n",
    "    for i in range(len(y_true)):\n",
    "        x = (y_true[i] - y_pred[i])**2\n",
    "        SS_reg = SS_reg+x\n",
    "    \n",
    "    y_true_mean = np.mean(y_true)\n",
    "    for i in range(len(y_true)):\n",
    "        x = (y_true[i]-y_true_mean)**2\n",
    "        SS_total = SS_total+x\n",
    "        \n",
    "    \n",
    "    print(1 - (SS_reg/SS_total))"
   ]
  },
  {
   "cell_type": "code",
   "execution_count": 108,
   "metadata": {},
   "outputs": [],
   "source": [
    "model = LinearRegression()"
   ]
  },
  {
   "cell_type": "code",
   "execution_count": 109,
   "metadata": {},
   "outputs": [],
   "source": [
    "df_train = pd.read_csv('./expedia-personalized-sort/data/test3_data_train.csv')\n",
    "df_train = normalize(df_train)"
   ]
  },
  {
   "cell_type": "code",
   "execution_count": 110,
   "metadata": {},
   "outputs": [],
   "source": [
    "X_train = df_train.drop(['price_usd'], axis='columns').values\n",
    "y_train = df_train['price_usd'].values\n",
    "# turn DataFrame into numpy ndarray for computation using .values"
   ]
  },
  {
   "cell_type": "code",
   "execution_count": 111,
   "metadata": {},
   "outputs": [],
   "source": [
    "df_test = pd.read_csv('./expedia-personalized-sort/data/test3_data_test.csv')\n",
    "df_test = normalize(df_test)"
   ]
  },
  {
   "cell_type": "code",
   "execution_count": 112,
   "metadata": {},
   "outputs": [],
   "source": [
    "X_test = df_test.drop(['price_usd'], axis='columns').values\n",
    "y_test = df_test['price_usd'].values\n",
    "# turn DataFrame into numpy ndarray for computation using .values"
   ]
  },
  {
   "cell_type": "code",
   "execution_count": 113,
   "metadata": {},
   "outputs": [],
   "source": [
    "model.fit(X_train, y_train)"
   ]
  },
  {
   "cell_type": "code",
   "execution_count": 114,
   "metadata": {},
   "outputs": [
    {
     "data": {
      "text/plain": [
       "array([-3.80893234e-14,  5.19648515e-02, -1.93406806e-02,  3.87062820e-02,\n",
       "        1.44404765e-02,  5.61138118e-01, -4.70851965e-01,  4.23016350e-02,\n",
       "        9.64694814e-03])"
      ]
     },
     "execution_count": 114,
     "metadata": {},
     "output_type": "execute_result"
    }
   ],
   "source": [
    "model.coefficients"
   ]
  },
  {
   "cell_type": "code",
   "execution_count": 115,
   "metadata": {},
   "outputs": [],
   "source": [
    "prediction = model.predict(X_test)"
   ]
  },
  {
   "cell_type": "code",
   "execution_count": 116,
   "metadata": {},
   "outputs": [
    {
     "data": {
      "text/html": [
       "<div>\n",
       "<style scoped>\n",
       "    .dataframe tbody tr th:only-of-type {\n",
       "        vertical-align: middle;\n",
       "    }\n",
       "\n",
       "    .dataframe tbody tr th {\n",
       "        vertical-align: top;\n",
       "    }\n",
       "\n",
       "    .dataframe thead th {\n",
       "        text-align: right;\n",
       "    }\n",
       "</style>\n",
       "<table border=\"1\" class=\"dataframe\">\n",
       "  <thead>\n",
       "    <tr style=\"text-align: right;\">\n",
       "      <th></th>\n",
       "      <th>y_true</th>\n",
       "      <th>y_pred</th>\n",
       "    </tr>\n",
       "  </thead>\n",
       "  <tbody>\n",
       "    <tr>\n",
       "      <th>0</th>\n",
       "      <td>-0.944395</td>\n",
       "      <td>-1.651917</td>\n",
       "    </tr>\n",
       "    <tr>\n",
       "      <th>1</th>\n",
       "      <td>0.685837</td>\n",
       "      <td>0.587923</td>\n",
       "    </tr>\n",
       "    <tr>\n",
       "      <th>2</th>\n",
       "      <td>0.412423</td>\n",
       "      <td>0.601989</td>\n",
       "    </tr>\n",
       "    <tr>\n",
       "      <th>3</th>\n",
       "      <td>-0.038711</td>\n",
       "      <td>-0.099773</td>\n",
       "    </tr>\n",
       "    <tr>\n",
       "      <th>4</th>\n",
       "      <td>0.494447</td>\n",
       "      <td>0.338677</td>\n",
       "    </tr>\n",
       "    <tr>\n",
       "      <th>...</th>\n",
       "      <td>...</td>\n",
       "      <td>...</td>\n",
       "    </tr>\n",
       "    <tr>\n",
       "      <th>9995</th>\n",
       "      <td>0.221033</td>\n",
       "      <td>0.048948</td>\n",
       "    </tr>\n",
       "    <tr>\n",
       "      <th>9996</th>\n",
       "      <td>0.275715</td>\n",
       "      <td>0.258437</td>\n",
       "    </tr>\n",
       "    <tr>\n",
       "      <th>9997</th>\n",
       "      <td>-0.742752</td>\n",
       "      <td>-0.339488</td>\n",
       "    </tr>\n",
       "    <tr>\n",
       "      <th>9998</th>\n",
       "      <td>-0.742752</td>\n",
       "      <td>-0.388686</td>\n",
       "    </tr>\n",
       "    <tr>\n",
       "      <th>9999</th>\n",
       "      <td>0.275715</td>\n",
       "      <td>0.724866</td>\n",
       "    </tr>\n",
       "  </tbody>\n",
       "</table>\n",
       "<p>10000 rows × 2 columns</p>\n",
       "</div>"
      ],
      "text/plain": [
       "        y_true    y_pred\n",
       "0    -0.944395 -1.651917\n",
       "1     0.685837  0.587923\n",
       "2     0.412423  0.601989\n",
       "3    -0.038711 -0.099773\n",
       "4     0.494447  0.338677\n",
       "...        ...       ...\n",
       "9995  0.221033  0.048948\n",
       "9996  0.275715  0.258437\n",
       "9997 -0.742752 -0.339488\n",
       "9998 -0.742752 -0.388686\n",
       "9999  0.275715  0.724866\n",
       "\n",
       "[10000 rows x 2 columns]"
      ]
     },
     "execution_count": 116,
     "metadata": {},
     "output_type": "execute_result"
    }
   ],
   "source": [
    "pd.DataFrame({\n",
    "    'y_true': y_test,\n",
    "    'y_pred' : np.ravel(prediction)\n",
    "})"
   ]
  },
  {
   "cell_type": "code",
   "execution_count": 117,
   "metadata": {},
   "outputs": [
    {
     "name": "stdout",
     "output_type": "stream",
     "text": [
      "0.5449102444363592\n"
     ]
    }
   ],
   "source": [
    "r2_score(y_test, prediction)"
   ]
  },
  {
   "cell_type": "code",
   "execution_count": null,
   "metadata": {},
   "outputs": [],
   "source": []
  }
 ],
 "metadata": {
  "kernelspec": {
   "display_name": "Python 3",
   "language": "python",
   "name": "python3"
  },
  "language_info": {
   "codemirror_mode": {
    "name": "ipython",
    "version": 3
   },
   "file_extension": ".py",
   "mimetype": "text/x-python",
   "name": "python",
   "nbconvert_exporter": "python",
   "pygments_lexer": "ipython3",
   "version": "3.6.8"
  }
 },
 "nbformat": 4,
 "nbformat_minor": 4
}
