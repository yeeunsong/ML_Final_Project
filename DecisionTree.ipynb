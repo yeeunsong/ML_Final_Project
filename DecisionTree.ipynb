{
 "cells": [
  {
   "cell_type": "code",
   "execution_count": 1,
   "metadata": {
    "colab": {},
    "colab_type": "code",
    "id": "kuCMrFtbN_6L"
   },
   "outputs": [],
   "source": [
    "import numpy as np\n",
    "from matplotlib import pyplot as plt\n",
    "import pandas as pd\n",
    "import warnings\n",
    "warnings.filterwarnings('ignore')\n",
    "\n",
    "%matplotlib inline"
   ]
  },
  {
   "cell_type": "code",
   "execution_count": 2,
   "metadata": {
    "colab": {},
    "colab_type": "code",
    "id": "l2M28fD-OhMH"
   },
   "outputs": [],
   "source": [
    "class DecisionTreeRegressor:\n",
    "  def fit(self, X, y, min_leaf):\n",
    "    self.dtree = Node(X, y, np.array(np.arange(len(y))), min_leaf)\n",
    "    return self\n",
    "\n",
    "  def predict(self, X):\n",
    "    return self.dtree.predict(X.values)"
   ]
  },
  {
   "cell_type": "code",
   "execution_count": null,
   "metadata": {
    "colab": {},
    "colab_type": "code",
    "id": "aeCpY9nc1Hly"
   },
   "outputs": [],
   "source": [
    "class Node:\n",
    "\n",
    "  def __init__(self, x, y, idxs, min_leaㄹ):\n",
    "    self.x = x\n",
    "    self.y = y\n",
    "    self.idxs = idxs\n",
    "    self.min_leaf = min_leaf\n",
    "    self.row_count = len(idxs)\n",
    "    self.col_count = x.shape[1]\n",
    "    self.val = np.mean(y[idxs])\n",
    "    self.score = float('inf')\n",
    "    self.find_varsplit()\n",
    "\n",
    "  # split main function\n",
    "  def find_varsplit(self):\n",
    "    for var_idx in range(self.col_count): \n",
    "      x = self.x.values[self.idxs, var_idx]\n",
    "\n",
    "      # 최적의 조합 찾기\n",
    "      for r in range(self.row_count):\n",
    "        lhs = x<=x[r]\n",
    "        rhs = x>x[r]\n",
    "        if rhs.sum() < self.min_leaf or lhs.sum() < self.min_leaf: continue\n",
    "        # 최소 min_leaf의 개수만큼은 있어야 한다\n",
    "        # min_leaf의 개수보다 적으면 밑의 내용은 continue를 통해 skip\n",
    "\n",
    "\n",
    "        curr_score = self.find_score(lhs, rhs)\n",
    "        if curr_score < self.score:\n",
    "          self.var_idx = var_idx\n",
    "          self.score = curr_score\n",
    "          self.split = x[r]\n",
    "\n",
    "\n",
    "\n",
    "    if self.is_leaf: return\n",
    "    x = self.split_col\n",
    "    lhs = np.nonzero(x<=self.split)[0]\n",
    "    rhs = np.nonzero(x>self.split)[0]\n",
    "    # self.split: node split의 기준이 되는 값\n",
    "    self.lhs = Node(self.x, self.y, self.idxs[lhs], self.min_leaf)\n",
    "    self.rhs = Node(self.x, self.y, self.idxs[rhs], self.min_leaf)\n",
    "    # self.split을 기준으로 좌우 트리 분할하기\n",
    "\n",
    "\n",
    "   \n",
    "\n",
    "  # low standard deviation for split \n",
    "  # split that minimizes the weighted averages of the std = minimize RMSE\n",
    "  def find_score(self, lhs, rhs):\n",
    "    y = self.y[self.idxs]\n",
    "    lhs_std = y[lhs].std()\n",
    "    rhs_std = y[rhs].std()\n",
    "    return lhs_std*lhs.sum() + rhs_std * rhs.sum()\n",
    "\n",
    "\n",
    "  @property\n",
    "  def split_col(self): return self.x.values[self.idxs, self.var_idx]\n",
    "\n",
    "  @property\n",
    "  def is_leaf(self): return self.score == float('inf')\n",
    "\n",
    "  def predict(self, x):\n",
    "    return np.array([self.predict_row(xi) for xi in x])\n",
    "\n",
    "\n",
    "  def predict_row(self, xi):\n",
    "    if self.is_leaf: return self.val\n",
    "    # self.val = np.mean(y[idxs])\n",
    "    # is_leaf의 경우에는 yi return\n",
    "    node = self.lhs if xi[self.var_idx] <=self.split else self.rhs\n",
    "    return node.predict_row(xi)"
   ]
  },
  {
   "cell_type": "code",
   "execution_count": 22,
   "metadata": {
    "colab": {
     "base_uri": "https://localhost:8080/",
     "height": 73
    },
    "colab_type": "code",
    "id": "pkUIhYVPL3Im",
    "outputId": "bd5fe1f4-49b6-4b06-eba9-125ad318cb1f"
   },
   "outputs": [
    {
     "name": "stdout",
     "output_type": "stream",
     "text": [
      "Desktop.zip\ttest3_data_test.csv   test.csv\n",
      "test3_data\ttest3_data_train.csv  train_10000.csv\n",
      "test3_data.csv\ttest3.zip\t      train.csv\n"
     ]
    }
   ],
   "source": [
    "!ls '/content/drive/My Drive/expedia/expedia-personalized-sort/data'"
   ]
  },
  {
   "cell_type": "code",
   "execution_count": null,
   "metadata": {
    "colab": {},
    "colab_type": "code",
    "id": "MXO0T71AMUdX"
   },
   "outputs": [],
   "source": [
    "df_train = pd.read_csv('/content/drive/My Drive/expedia/expedia-personalized-sort/data/test3_data_train.csv')"
   ]
  },
  {
   "cell_type": "code",
   "execution_count": null,
   "metadata": {
    "colab": {},
    "colab_type": "code",
    "id": "ZJLWPEBVN3PV"
   },
   "outputs": [],
   "source": [
    "X_train = df_train.drop(['price_usd'], axis='columns')\n",
    "y_train = df_train['price_usd']\n",
    "# turn DataFrame into numpy ndarray for computation using .values"
   ]
  },
  {
   "cell_type": "code",
   "execution_count": null,
   "metadata": {
    "colab": {},
    "colab_type": "code",
    "id": "ZE06bw0WN_wT"
   },
   "outputs": [],
   "source": [
    "df_test = pd.read_csv('/content/drive/My Drive/expedia/expedia-personalized-sort/data/test3_data_test.csv')"
   ]
  },
  {
   "cell_type": "code",
   "execution_count": null,
   "metadata": {
    "colab": {},
    "colab_type": "code",
    "id": "WJZve9-MOEbi"
   },
   "outputs": [],
   "source": [
    "X_test = df_test.drop(['price_usd'], axis='columns')\n",
    "y_test = df_test['price_usd']\n",
    "# turn DataFrame into numpy ndarray for computation using .values"
   ]
  },
  {
   "cell_type": "code",
   "execution_count": null,
   "metadata": {
    "colab": {},
    "colab_type": "code",
    "id": "r-KA6srwOHrr"
   },
   "outputs": [],
   "source": [
    "model = DecisionTreeRegressor()"
   ]
  },
  {
   "cell_type": "code",
   "execution_count": 12,
   "metadata": {
    "colab": {
     "base_uri": "https://localhost:8080/",
     "height": 36
    },
    "colab_type": "code",
    "id": "Gif4-UhuOKQs",
    "outputId": "299bed01-a163-43f7-8a40-36f80d72cead"
   },
   "outputs": [
    {
     "data": {
      "text/plain": [
       "<__main__.DecisionTreeRegressor at 0x7f3f425f4a20>"
      ]
     },
     "execution_count": 12,
     "metadata": {
      "tags": []
     },
     "output_type": "execute_result"
    }
   ],
   "source": [
    "model.fit(X_train, y_train)"
   ]
  },
  {
   "cell_type": "code",
   "execution_count": null,
   "metadata": {
    "colab": {},
    "colab_type": "code",
    "id": "To690bvZOXto"
   },
   "outputs": [],
   "source": [
    "# r2_score function\n",
    "def r2_score(y_true, y_pred):\n",
    "    SS_total = 0\n",
    "    SS_reg = 0\n",
    "    \n",
    "    for i in range(len(y_true)):\n",
    "        x = (y_true[i] - y_pred[i])**2\n",
    "        SS_reg = SS_reg+x\n",
    "    \n",
    "    y_true_mean = np.mean(y_true)\n",
    "    for i in range(len(y_true)):\n",
    "        x = (y_true[i]-y_true_mean)**2\n",
    "        SS_total = SS_total+x\n",
    "        \n",
    "    \n",
    "    print(1 - (SS_reg/SS_total))"
   ]
  },
  {
   "cell_type": "code",
   "execution_count": null,
   "metadata": {
    "colab": {},
    "colab_type": "code",
    "id": "nI9GyR8ePESR"
   },
   "outputs": [],
   "source": [
    "prediction = model.predict(X_test)"
   ]
  },
  {
   "cell_type": "code",
   "execution_count": 16,
   "metadata": {
    "colab": {
     "base_uri": "https://localhost:8080/",
     "height": 415
    },
    "colab_type": "code",
    "id": "BXDEpUXRPMFJ",
    "outputId": "170c084e-8ec8-413d-fc85-d72b6bcea747"
   },
   "outputs": [
    {
     "data": {
      "text/html": [
       "<div>\n",
       "<style scoped>\n",
       "    .dataframe tbody tr th:only-of-type {\n",
       "        vertical-align: middle;\n",
       "    }\n",
       "\n",
       "    .dataframe tbody tr th {\n",
       "        vertical-align: top;\n",
       "    }\n",
       "\n",
       "    .dataframe thead th {\n",
       "        text-align: right;\n",
       "    }\n",
       "</style>\n",
       "<table border=\"1\" class=\"dataframe\">\n",
       "  <thead>\n",
       "    <tr style=\"text-align: right;\">\n",
       "      <th></th>\n",
       "      <th>y_true</th>\n",
       "      <th>y_pred</th>\n",
       "    </tr>\n",
       "  </thead>\n",
       "  <tbody>\n",
       "    <tr>\n",
       "      <th>0</th>\n",
       "      <td>29.75</td>\n",
       "      <td>19.285714</td>\n",
       "    </tr>\n",
       "    <tr>\n",
       "      <th>1</th>\n",
       "      <td>149.00</td>\n",
       "      <td>129.000000</td>\n",
       "    </tr>\n",
       "    <tr>\n",
       "      <th>2</th>\n",
       "      <td>129.00</td>\n",
       "      <td>140.600000</td>\n",
       "    </tr>\n",
       "    <tr>\n",
       "      <th>3</th>\n",
       "      <td>96.00</td>\n",
       "      <td>78.600000</td>\n",
       "    </tr>\n",
       "    <tr>\n",
       "      <th>4</th>\n",
       "      <td>135.00</td>\n",
       "      <td>108.000000</td>\n",
       "    </tr>\n",
       "    <tr>\n",
       "      <th>...</th>\n",
       "      <td>...</td>\n",
       "      <td>...</td>\n",
       "    </tr>\n",
       "    <tr>\n",
       "      <th>9995</th>\n",
       "      <td>115.00</td>\n",
       "      <td>83.250000</td>\n",
       "    </tr>\n",
       "    <tr>\n",
       "      <th>9996</th>\n",
       "      <td>119.00</td>\n",
       "      <td>92.500000</td>\n",
       "    </tr>\n",
       "    <tr>\n",
       "      <th>9997</th>\n",
       "      <td>44.50</td>\n",
       "      <td>41.250000</td>\n",
       "    </tr>\n",
       "    <tr>\n",
       "      <th>9998</th>\n",
       "      <td>44.50</td>\n",
       "      <td>54.400000</td>\n",
       "    </tr>\n",
       "    <tr>\n",
       "      <th>9999</th>\n",
       "      <td>119.00</td>\n",
       "      <td>144.833333</td>\n",
       "    </tr>\n",
       "  </tbody>\n",
       "</table>\n",
       "<p>10000 rows × 2 columns</p>\n",
       "</div>"
      ],
      "text/plain": [
       "      y_true      y_pred\n",
       "0      29.75   19.285714\n",
       "1     149.00  129.000000\n",
       "2     129.00  140.600000\n",
       "3      96.00   78.600000\n",
       "4     135.00  108.000000\n",
       "...      ...         ...\n",
       "9995  115.00   83.250000\n",
       "9996  119.00   92.500000\n",
       "9997   44.50   41.250000\n",
       "9998   44.50   54.400000\n",
       "9999  119.00  144.833333\n",
       "\n",
       "[10000 rows x 2 columns]"
      ]
     },
     "execution_count": 16,
     "metadata": {
      "tags": []
     },
     "output_type": "execute_result"
    }
   ],
   "source": [
    "  pd.DataFrame({\n",
    "    'y_true': y_test,\n",
    "    'y_pred' : np.ravel(prediction)\n",
    "})"
   ]
  },
  {
   "cell_type": "code",
   "execution_count": 17,
   "metadata": {
    "colab": {
     "base_uri": "https://localhost:8080/",
     "height": 36
    },
    "colab_type": "code",
    "id": "iUd7_JsRPQY9",
    "outputId": "407037c0-7726-4c1b-89d0-aabedd94dacb"
   },
   "outputs": [
    {
     "name": "stdout",
     "output_type": "stream",
     "text": [
      "0.5695908782000201\n"
     ]
    }
   ],
   "source": [
    "r2_score(y_test, prediction)"
   ]
  },
  {
   "cell_type": "code",
   "execution_count": null,
   "metadata": {
    "colab": {},
    "colab_type": "code",
    "id": "nPZRYoesPUA6"
   },
   "outputs": [],
   "source": []
  }
 ],
 "metadata": {
  "accelerator": "GPU",
  "colab": {
   "name": "DecisionTree.ipynb",
   "provenance": []
  },
  "kernelspec": {
   "display_name": "Python 3",
   "language": "python",
   "name": "python3"
  },
  "language_info": {
   "codemirror_mode": {
    "name": "ipython",
    "version": 3
   },
   "file_extension": ".py",
   "mimetype": "text/x-python",
   "name": "python",
   "nbconvert_exporter": "python",
   "pygments_lexer": "ipython3",
   "version": "3.6.7"
  }
 },
 "nbformat": 4,
 "nbformat_minor": 2
}
